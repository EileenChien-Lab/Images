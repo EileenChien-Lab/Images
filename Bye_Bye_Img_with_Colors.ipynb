{
 "cells": [
  {
   "cell_type": "code",
   "execution_count": 309,
   "metadata": {},
   "outputs": [],
   "source": [
    "import matplotlib.pyplot as plt\n",
    "import cv2 as cv\n",
    "import glob\n",
    "import random\n",
    "import shutil"
   ]
  },
  {
   "cell_type": "code",
   "execution_count": 310,
   "metadata": {},
   "outputs": [],
   "source": [
    "path_fr = '/home/sasdemo01/Unimicron_imgs_Machvision_20190625_0708_H1_clear/NG/'\n",
    "\n",
    "\n",
    "#'/home/sasdemo01/0826_and_clearNG/NG/20190305/'  \n",
    "#'/home/sasdemo01/0826_and_clearNG/NG/20190314/'  \n",
    "#'/home/sasdemo01/0826_and_clearNG/NG/20190325/'  \n",
    "#'/home/sasdemo01/0826_and_clearNG/NG/20190329/'  \n",
    "#'/home/sasdemo01/0826_and_clearNG/NG/20190410/'  \n",
    "#'/home/sasdemo01/0826_and_clearNG/NG/20190426/'  \n",
    "#'/home/sasdemo01/0826_and_clearNG/NG/20190516/'  \n",
    "#'/home/sasdemo01/0826_and_clearNG/NG/20190523/'\n",
    "path_to = '/home/sasdemo01/0826_and_clearNG/NG/'"
   ]
  },
  {
   "cell_type": "code",
   "execution_count": 311,
   "metadata": {},
   "outputs": [
    {
     "name": "stdout",
     "output_type": "stream",
     "text": [
      "17353 + 0 = 17353\n"
     ]
    }
   ],
   "source": [
    "check_pt = 5\n",
    "grey_cnt = 0\n",
    "color_cnt = 0\n",
    "\n",
    "for file in glob.glob(path_fr+\"*.bmp\"):\n",
    "    #grey = True\n",
    "    grey_flag = \"Grey\"\n",
    "    img = cv.imread(file,-1) #Return the loaded image as is\n",
    "    for i in range(check_pt):\n",
    "        x = random.randrange(img.shape[0])\n",
    "        y = random.randrange(img.shape[1])\n",
    "        if max(img[x][y][0], img[x][y][1],img[x][y][2]) > min(img[x][y][0], img[x][y][1],img[x][y][2]):\n",
    "            #print(file)\n",
    "            grey_flag = \"Color\"\n",
    "            color_cnt = color_cnt + 1\n",
    "            break\n",
    "    if grey_flag == \"Grey\" :\n",
    "        shutil.copy(file, path_to)\n",
    "        grey_cnt = grey_cnt + 1\n",
    "print(grey_cnt,'+',color_cnt,'=',grey_cnt+color_cnt)      \n",
    "         "
   ]
  },
  {
   "cell_type": "code",
   "execution_count": 312,
   "metadata": {},
   "outputs": [],
   "source": [
    "#see=plt.imread(\"/home/sasdemo01/0826_and_clearNG/OK/20190325/B1AV0MUT23_5131613B-1227-47365-2D-asTRIO_19341001-02-00_-1_-1_Panel0001_S_-1_-1_-1_00289.bmp\")\n",
    "#plt.imshow(see)"
   ]
  },
  {
   "cell_type": "code",
   "execution_count": 313,
   "metadata": {},
   "outputs": [],
   "source": [
    "#shutil.rmtree(path_fr)"
   ]
  },
  {
   "cell_type": "code",
   "execution_count": null,
   "metadata": {},
   "outputs": [],
   "source": []
  }
 ],
 "metadata": {
  "kernelspec": {
   "display_name": "Python 3",
   "language": "python",
   "name": "python3"
  },
  "language_info": {
   "codemirror_mode": {
    "name": "ipython",
    "version": 3
   },
   "file_extension": ".py",
   "mimetype": "text/x-python",
   "name": "python",
   "nbconvert_exporter": "python",
   "pygments_lexer": "ipython3",
   "version": "3.6.8"
  }
 },
 "nbformat": 4,
 "nbformat_minor": 2
}
